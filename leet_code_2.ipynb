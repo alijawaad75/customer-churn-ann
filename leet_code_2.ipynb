{
 "cells": [
  {
   "cell_type": "code",
   "execution_count": 6,
   "id": "0fd14ed3",
   "metadata": {},
   "outputs": [],
   "source": [
    "# find the longest substring  bbbbb\n",
    "s=\"bbbbb\"\n",
    "def longest_substring(s):\n",
    "    char_set=set()\n",
    "    left=0\n",
    "    max_len=0\n",
    "    for right in range(len(s)):\n",
    "        while s[right] in chae_Set:\n",
    "            char_set.remove(s[left])\n",
    "            left+=1\n",
    "        char_set.add(s[right])\n",
    "        max_len=max(max_len,right-left+1)\n",
    "    return max_len\n"
   ]
  },
  {
   "cell_type": "code",
   "execution_count": 9,
   "id": "f3a120f9",
   "metadata": {},
   "outputs": [
    {
     "name": "stdout",
     "output_type": "stream",
     "text": [
      "Longest substring length: 3\n"
     ]
    }
   ],
   "source": [
    "s = \"pwwkew\"\n",
    "\n",
    "def longest_substring(s):\n",
    "    left = 0\n",
    "    max_len = 0\n",
    "    char_set = set()\n",
    "\n",
    "    for right in range(len(s)):\n",
    "        while s[right] in char_set:\n",
    "            char_set.remove(s[left])\n",
    "            left += 1\n",
    "        char_set.add(s[right])\n",
    "        max_len = max(max_len, right - left + 1)\n",
    "\n",
    "    return max_len\n",
    "\n",
    "# Run the function and print result\n",
    "print(\"Longest substring length:\", longest_substring(s))\n"
   ]
  },
  {
   "cell_type": "code",
   "execution_count": 10,
   "id": "8aa168b5",
   "metadata": {},
   "outputs": [
    {
     "name": "stdout",
     "output_type": "stream",
     "text": [
      "\n",
      "➡️ Checking: 'p' at index 0\n",
      "   ✅ Current Window: 'p'\n",
      "   📌 Window Indices: [0:1]\n",
      "   📊 Set: {'p'}\n",
      "   🧮 Current max_len: 1\n",
      "\n",
      "➡️ Checking: 'w' at index 1\n",
      "   ✅ Current Window: 'pw'\n",
      "   📌 Window Indices: [0:2]\n",
      "   📊 Set: {'w', 'p'}\n",
      "   🧮 Current max_len: 2\n",
      "\n",
      "➡️ Checking: 'w' at index 2\n",
      "   🔁 'w' is already in set {'w', 'p'}. Removing 'p' at index 0\n",
      "   🔁 'w' is already in set {'w'}. Removing 'w' at index 1\n",
      "   ✅ Current Window: 'w'\n",
      "   📌 Window Indices: [2:3]\n",
      "   📊 Set: {'w'}\n",
      "   🧮 Current max_len: 2\n",
      "\n",
      "➡️ Checking: 'k' at index 3\n",
      "   ✅ Current Window: 'wk'\n",
      "   📌 Window Indices: [2:4]\n",
      "   📊 Set: {'w', 'k'}\n",
      "   🧮 Current max_len: 2\n",
      "\n",
      "➡️ Checking: 'e' at index 4\n",
      "   ✅ Current Window: 'wke'\n",
      "   📌 Window Indices: [2:5]\n",
      "   📊 Set: {'e', 'w', 'k'}\n",
      "   🧮 Current max_len: 3\n",
      "\n",
      "➡️ Checking: 'w' at index 5\n",
      "   🔁 'w' is already in set {'e', 'w', 'k'}. Removing 'w' at index 2\n",
      "   ✅ Current Window: 'kew'\n",
      "   📌 Window Indices: [3:6]\n",
      "   📊 Set: {'e', 'w', 'k'}\n",
      "   🧮 Current max_len: 3\n",
      "\n",
      "🔍 Final Result: 3\n"
     ]
    }
   ],
   "source": [
    "s = \"pwwkew\"\n",
    "\n",
    "def longest_substring(s):\n",
    "    left = 0\n",
    "    max_len = 0\n",
    "    char_set = set()\n",
    "\n",
    "    for right in range(len(s)):\n",
    "        print(f\"\\n➡️ Checking: '{s[right]}' at index {right}\")\n",
    "\n",
    "        # Handle repeating character\n",
    "        while s[right] in char_set:\n",
    "            print(f\"   🔁 '{s[right]}' is already in set {char_set}. Removing '{s[left]}' at index {left}\")\n",
    "            char_set.remove(s[left])\n",
    "            left += 1\n",
    "\n",
    "        # Add the character and update max length\n",
    "        char_set.add(s[right])\n",
    "        window = s[left:right+1]\n",
    "        window_len = right - left + 1\n",
    "        max_len = max(max_len, window_len)\n",
    "\n",
    "        print(f\"   ✅ Current Window: '{window}'\")\n",
    "        print(f\"   📌 Window Indices: [{left}:{right+1}]\")\n",
    "        print(f\"   📊 Set: {char_set}\")\n",
    "        print(f\"   🧮 Current max_len: {max_len}\")\n",
    "\n",
    "    return max_len\n",
    "\n",
    "print(\"\\n🔍 Final Result:\", longest_substring(s))\n"
   ]
  },
  {
   "cell_type": "code",
   "execution_count": 1,
   "id": "6f12816d",
   "metadata": {},
   "outputs": [
    {
     "name": "stdout",
     "output_type": "stream",
     "text": [
      "Password/Username is valid. All characters are unique.\n"
     ]
    }
   ],
   "source": [
    "def is_valid_password(input_string):\n",
    "    \"\"\"\n",
    "    This function checks if the input_string has all unique characters.\n",
    "    If there are any repeating characters, it returns False along with feedback.\n",
    "    \"\"\"\n",
    "    left = 0\n",
    "    max_len = 0\n",
    "    char_set = set()\n",
    "    n = len(input_string)\n",
    "    \n",
    "    # Sliding window technique\n",
    "    for right in range(n):\n",
    "        # If a repeating character is found, move the left pointer to the right\n",
    "        while input_string[right] in char_set:\n",
    "            char_set.remove(input_string[left])\n",
    "            left += 1\n",
    "        \n",
    "        # Add current character to the set\n",
    "        char_set.add(input_string[right])\n",
    "        \n",
    "        # Update the length of longest unique substring\n",
    "        max_len = max(max_len, right - left + 1)\n",
    "    \n",
    "    # If the longest substring length is equal to the length of input, it's valid\n",
    "    if max_len == n:\n",
    "        return True, \"Password/Username is valid. All characters are unique.\"\n",
    "    else:\n",
    "        return False, \"Password/Username contains repeating characters.\"\n",
    "\n",
    "def get_user_input():\n",
    "    \"\"\"\n",
    "    This function prompts the user to input their password or username.\n",
    "    Then checks if it is valid using the is_valid_password function.\n",
    "    \"\"\"\n",
    "    user_input = input(\"Please enter your password or username: \")\n",
    "    \n",
    "    is_valid, feedback = is_valid_password(user_input)\n",
    "    \n",
    "    print(feedback)\n",
    "    \n",
    "    if not is_valid:\n",
    "        print(\"Please ensure the input contains no repeating characters.\")\n",
    "\n",
    "# Run the program\n",
    "get_user_input()\n"
   ]
  },
  {
   "cell_type": "code",
   "execution_count": null,
   "id": "d86c2ed9",
   "metadata": {},
   "outputs": [],
   "source": []
  }
 ],
 "metadata": {
  "kernelspec": {
   "display_name": "Python 3",
   "language": "python",
   "name": "python3"
  },
  "language_info": {
   "codemirror_mode": {
    "name": "ipython",
    "version": 3
   },
   "file_extension": ".py",
   "mimetype": "text/x-python",
   "name": "python",
   "nbconvert_exporter": "python",
   "pygments_lexer": "ipython3",
   "version": "3.10.0"
  }
 },
 "nbformat": 4,
 "nbformat_minor": 5
}
