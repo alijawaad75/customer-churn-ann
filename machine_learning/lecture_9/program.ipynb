{
 "cells": [
  {
   "cell_type": "markdown",
   "metadata": {},
   "source": [
    "# Dictionary"
   ]
  },
  {
   "cell_type": "markdown",
   "metadata": {},
   "source": [
    "### benefit\n",
    "## they may contain the un label data\n",
    "# we use the locckup and the searchin gint he data\n",
    "### in the dictionary you have thr unique key and the item and the thing\n"
   ]
  },
  {
   "cell_type": "code",
   "execution_count": null,
   "metadata": {},
   "outputs": [],
   "source": [
    "\n"
   ]
  },
  {
   "cell_type": "code",
   "execution_count": 8,
   "metadata": {},
   "outputs": [
    {
     "ename": "NameError",
     "evalue": "name 'add' is not defined",
     "output_type": "error",
     "traceback": [
      "\u001b[1;31m---------------------------------------------------------------------------\u001b[0m",
      "\u001b[1;31mNameError\u001b[0m                                 Traceback (most recent call last)",
      "Cell \u001b[1;32mIn[8], line 10\u001b[0m\n\u001b[0;32m      1\u001b[0m \u001b[38;5;66;03m# hae dictionary have the key the left one and the value have the right one\u001b[39;00m\n\u001b[0;32m      4\u001b[0m \u001b[38;5;28mdict\u001b[39m\u001b[38;5;241m=\u001b[39m{\n\u001b[0;32m      5\u001b[0m \u001b[38;5;124m\"\u001b[39m\u001b[38;5;124mNAME\u001b[39m\u001b[38;5;124m\"\u001b[39m : \u001b[38;5;124m\"\u001b[39m\u001b[38;5;124mSandeep\u001b[39m\u001b[38;5;124m\"\u001b[39m,\n\u001b[0;32m      6\u001b[0m \u001b[38;5;124m\"\u001b[39m\u001b[38;5;124mNAME\u001b[39m\u001b[38;5;124m\"\u001b[39m : \u001b[38;5;124m\"\u001b[39m\u001b[38;5;124mSandeep\u001b[39m\u001b[38;5;124m\"\u001b[39m,\n\u001b[0;32m      7\u001b[0m \u001b[38;5;124m\"\u001b[39m\u001b[38;5;124mNAME\u001b[39m\u001b[38;5;124m\"\u001b[39m : \u001b[38;5;124m\"\u001b[39m\u001b[38;5;124mSandeep\u001b[39m\u001b[38;5;124m\"\u001b[39m,\n\u001b[0;32m      8\u001b[0m \u001b[38;5;124m\"\u001b[39m\u001b[38;5;124mNAME\u001b[39m\u001b[38;5;124m\"\u001b[39m : \u001b[38;5;124m\"\u001b[39m\u001b[38;5;124mSandeep\u001b[39m\u001b[38;5;124m\"\u001b[39m,\n\u001b[0;32m      9\u001b[0m \u001b[38;5;124m\"\u001b[39m\u001b[38;5;124mAGE\u001b[39m\u001b[38;5;124m\"\u001b[39m : \u001b[38;5;241m25\u001b[39m,\n\u001b[1;32m---> 10\u001b[0m \u001b[43madd\u001b[49m(\u001b[38;5;241m2\u001b[39m,\u001b[38;5;241m3\u001b[39m) : \u001b[38;5;241m5\u001b[39m,\n\u001b[0;32m     11\u001b[0m \u001b[38;5;124m\"\u001b[39m\u001b[38;5;124maddeas\u001b[39m\u001b[38;5;124m\"\u001b[39m : \u001b[38;5;241m5\u001b[39m \n\u001b[0;32m     12\u001b[0m }\n",
      "\u001b[1;31mNameError\u001b[0m: name 'add' is not defined"
     ]
    }
   ],
   "source": [
    "# hae dictionary have the key the left one and the value have the right one\n",
    "\n",
    "\n",
    "dict={\n",
    "\"NAME\" : \"Sandeep\",\n",
    "\"NAME\" : \"Sandeep\",\n",
    "\"NAME\" : \"Sandeep\",\n",
    "\"NAME\" : \"Sandeep\",\n",
    "\"AGE\" : 25,\n",
    "add(2,3) : 5,\n",
    "\"addeas\" : 5 \n",
    "}"
   ]
  },
  {
   "cell_type": "code",
   "execution_count": 1,
   "metadata": {},
   "outputs": [
    {
     "data": {
      "text/plain": [
       "dict"
      ]
     },
     "execution_count": 1,
     "metadata": {},
     "output_type": "execute_result"
    }
   ],
   "source": [
    "dict"
   ]
  },
  {
   "cell_type": "code",
   "execution_count": 2,
   "metadata": {},
   "outputs": [
    {
     "data": {
      "text/plain": [
       "dict['NAME']"
      ]
     },
     "execution_count": 2,
     "metadata": {},
     "output_type": "execute_result"
    }
   ],
   "source": [
    "dict[\"NAME\"]"
   ]
  },
  {
   "cell_type": "markdown",
   "metadata": {},
   "source": [
    "# Small exercise\n",
    "### in which we maje the dictionary and that diff subject and use marks are add"
   ]
  },
  {
   "cell_type": "code",
   "execution_count": 3,
   "metadata": {},
   "outputs": [],
   "source": [
    "marks={\n",
    "\"Maths\" : 90,\n",
    "\"Science\" : 80,\n",
    "\"English\" : 70\n",
    "\n",
    "}"
   ]
  },
  {
   "cell_type": "code",
   "execution_count": 4,
   "metadata": {},
   "outputs": [
    {
     "data": {
      "text/plain": [
       "{'Maths': 90, 'Science': 80, 'English': 70}"
      ]
     },
     "execution_count": 4,
     "metadata": {},
     "output_type": "execute_result"
    }
   ],
   "source": [
    "marks"
   ]
  },
  {
   "cell_type": "code",
   "execution_count": 5,
   "metadata": {},
   "outputs": [
    {
     "data": {
      "text/plain": [
       "90"
      ]
     },
     "execution_count": 5,
     "metadata": {},
     "output_type": "execute_result"
    }
   ],
   "source": [
    "marks[\"Maths\"]"
   ]
  },
  {
   "cell_type": "code",
   "execution_count": 6,
   "metadata": {},
   "outputs": [],
   "source": [
    "## exercise 2 to make the changes in the dictionay values\n",
    "dict={\n",
    "\"NAME\" : \"Sandeep\",\n",
    "\"AGE\" : 25,\n",
    "\"add\" : 5,\n",
    "\"addeas\" : 5 \n",
    "}\n"
   ]
  },
  {
   "cell_type": "code",
   "execution_count": 7,
   "metadata": {},
   "outputs": [],
   "source": [
    "dict[\"add\"]=6"
   ]
  },
  {
   "cell_type": "code",
   "execution_count": 8,
   "metadata": {},
   "outputs": [
    {
     "data": {
      "text/plain": [
       "6"
      ]
     },
     "execution_count": 8,
     "metadata": {},
     "output_type": "execute_result"
    }
   ],
   "source": [
    "dict[\"add\"]"
   ]
  },
  {
   "cell_type": "code",
   "execution_count": 9,
   "metadata": {},
   "outputs": [],
   "source": [
    "# exercise 3 to add the new key value pair in the dictionary\n",
    "dict={\n",
    "\"NAME\" : \"Sandeep\",\n",
    "\"AGE\" : 25,\n",
    "\"add\" : 5,\n",
    "\"addeas\" : 5 \n",
    "}\n"
   ]
  },
  {
   "cell_type": "code",
   "execution_count": 10,
   "metadata": {},
   "outputs": [],
   "source": [
    "dict[\"school\"]=\"DPS\""
   ]
  },
  {
   "cell_type": "code",
   "execution_count": 11,
   "metadata": {},
   "outputs": [],
   "source": [
    "#exercise to add the mutiple key value pair in the dictionary\n",
    "dict={\n",
    "\"NAME\" : \"Sandeep\",\n",
    "\"AGE\" : 25,\n",
    "\"add\" : 5,\n",
    "\"addeas\" : 5 \n",
    "}\n"
   ]
  },
  {
   "cell_type": "code",
   "execution_count": 12,
   "metadata": {},
   "outputs": [],
   "source": [
    "dict.update({\"school\":\"DPS\",\"class\":\"16th\"})"
   ]
  },
  {
   "cell_type": "code",
   "execution_count": 13,
   "metadata": {},
   "outputs": [
    {
     "data": {
      "text/plain": [
       "{'NAME': 'Sandeep',\n",
       " 'AGE': 25,\n",
       " 'add': 5,\n",
       " 'addeas': 5,\n",
       " 'school': 'DPS',\n",
       " 'class': '16th'}"
      ]
     },
     "execution_count": 13,
     "metadata": {},
     "output_type": "execute_result"
    }
   ],
   "source": [
    "dict"
   ]
  },
  {
   "cell_type": "code",
   "execution_count": 14,
   "metadata": {},
   "outputs": [],
   "source": [
    "#exercise to delete the key value pair in the dictionary\n",
    "dict={  \n",
    "\"NAME\" : \"Sandeep\",\n",
    "\"AGE\" : 25,\n",
    "\"add\" : 5,\n",
    "\"addeas\" : 5 \n",
    "}\n"
   ]
  },
  {
   "cell_type": "code",
   "execution_count": 15,
   "metadata": {},
   "outputs": [
    {
     "data": {
      "text/plain": [
       "5"
      ]
     },
     "execution_count": 15,
     "metadata": {},
     "output_type": "execute_result"
    }
   ],
   "source": [
    "dict.pop(\"add\")"
   ]
  },
  {
   "cell_type": "code",
   "execution_count": 16,
   "metadata": {},
   "outputs": [
    {
     "data": {
      "text/plain": [
       "{'NAME': 'Sandeep', 'AGE': 25}"
      ]
     },
     "execution_count": 16,
     "metadata": {},
     "output_type": "execute_result"
    }
   ],
   "source": [
    "del dict[\"addeas\"]\n",
    "dict"
   ]
  },
  {
   "cell_type": "code",
   "execution_count": 17,
   "metadata": {},
   "outputs": [],
   "source": [
    "# exerice 5 mak eht eemployee 5 database that have just inckud ther salary\n",
    "\n",
    "employee={\n",
    "\"Name\" : \"Sandeep\",\n",
    "\"Age\" : 25,\n",
    "\"Salary\" : 50000\n",
    "}\n"
   ]
  },
  {
   "cell_type": "code",
   "execution_count": 18,
   "metadata": {},
   "outputs": [
    {
     "data": {
      "text/plain": [
       "{'Name': 'Sandeep', 'Age': 25, 'Salary': 50000}"
      ]
     },
     "execution_count": 18,
     "metadata": {},
     "output_type": "execute_result"
    }
   ],
   "source": [
    "employee"
   ]
  },
  {
   "cell_type": "code",
   "execution_count": 19,
   "metadata": {},
   "outputs": [
    {
     "data": {
      "text/plain": [
       "dict_keys(['NAME', 'AGE'])"
      ]
     },
     "execution_count": 19,
     "metadata": {},
     "output_type": "execute_result"
    }
   ],
   "source": [
    "dict.keys()"
   ]
  },
  {
   "cell_type": "code",
   "execution_count": 20,
   "metadata": {},
   "outputs": [
    {
     "data": {
      "text/plain": [
       "dict_items([('NAME', 'Sandeep'), ('AGE', 25)])"
      ]
     },
     "execution_count": 20,
     "metadata": {},
     "output_type": "execute_result"
    }
   ],
   "source": [
    "dict.items()"
   ]
  },
  {
   "cell_type": "code",
   "execution_count": 21,
   "metadata": {},
   "outputs": [],
   "source": [
    "## exercise 6 to run the loop in  the dictionary\n",
    "dict={\n",
    "\"NAME\" : \"Sandeep\",\n",
    "\"AGE\" : 25,\n",
    "\"add\" : 5,\n",
    "\"addeas\" : 5 \n",
    "}\n"
   ]
  },
  {
   "cell_type": "code",
   "execution_count": 22,
   "metadata": {},
   "outputs": [
    {
     "name": "stdout",
     "output_type": "stream",
     "text": [
      "NAME\n",
      "AGE\n",
      "add\n",
      "addeas\n"
     ]
    }
   ],
   "source": [
    "for x in dict:\n",
    "  print(x)\n",
    "  "
   ]
  },
  {
   "cell_type": "code",
   "execution_count": 23,
   "metadata": {},
   "outputs": [
    {
     "name": "stdout",
     "output_type": "stream",
     "text": [
      "Sandeep\n",
      "25\n",
      "5\n",
      "5\n"
     ]
    }
   ],
   "source": [
    "for valuse in dict.values():\n",
    "  print(valuse)"
   ]
  },
  {
   "cell_type": "code",
   "execution_count": 24,
   "metadata": {},
   "outputs": [
    {
     "name": "stdout",
     "output_type": "stream",
     "text": [
      "NAME Sandeep\n",
      "AGE 25\n",
      "add 5\n",
      "addeas 5\n"
     ]
    }
   ],
   "source": [
    "# if we want to print the key value pair\n",
    "for x,y in dict.items():\n",
    "  print(x,y)"
   ]
  },
  {
   "cell_type": "code",
   "execution_count": 25,
   "metadata": {},
   "outputs": [
    {
     "name": "stdout",
     "output_type": "stream",
     "text": [
      "word not exist\n"
     ]
    }
   ],
   "source": [
    "## smal  project to mlae the to do list using the dictionary\n",
    "# ask in put from the user to which value that he wan to give the meaing\n",
    "dict1={\n",
    "    \"pyhton\":\"the programming language\",\n",
    "    \"nam3\":\"ali\"\n",
    "    \n",
    "}\n",
    "# give functionality to the use to search any word\n",
    "word=input(\"telll me the word that you want to search\")\n",
    "print(dict.get(word,\"word not exist\"))\n"
   ]
  },
  {
   "cell_type": "code",
   "execution_count": 27,
   "metadata": {},
   "outputs": [],
   "source": [
    "student_data={\n",
    "    \"sandeep\":{\n",
    "        \"name\":\"sandeep\",\n",
    "        \"age\":25,\n",
    "        \"class\":\"16th\"\n",
    "    },\n",
    "    \"ali\":{\n",
    "        \"name\":\"ali\",\n",
    "        \"age\":26,\n",
    "        \"class\":\"15th\"\n",
    "    }\n",
    "}"
   ]
  },
  {
   "cell_type": "code",
   "execution_count": 28,
   "metadata": {},
   "outputs": [
    {
     "data": {
      "text/plain": [
       "{'sandeep': {'name': 'sandeep', 'age': 25, 'class': '16th'},\n",
       " 'ali': {'name': 'ali', 'age': 26, 'class': '15th'}}"
      ]
     },
     "execution_count": 28,
     "metadata": {},
     "output_type": "execute_result"
    }
   ],
   "source": [
    "student_data"
   ]
  },
  {
   "cell_type": "code",
   "execution_count": null,
   "metadata": {},
   "outputs": [
    {
     "data": {
      "text/plain": [
       "25"
      ]
     },
     "execution_count": 29,
     "metadata": {},
     "output_type": "execute_result"
    },
    {
     "ename": "",
     "evalue": "",
     "output_type": "error",
     "traceback": [
      "\u001b[1;31mThe Kernel crashed while executing code in the current cell or a previous cell. \n",
      "\u001b[1;31mPlease review the code in the cell(s) to identify a possible cause of the failure. \n",
      "\u001b[1;31mClick <a href='https://aka.ms/vscodeJupyterKernelCrash'>here</a> for more info. \n",
      "\u001b[1;31mView Jupyter <a href='command:jupyter.viewOutput'>log</a> for further details."
     ]
    }
   ],
   "source": [
    "student_data[\"sandeep\"][\"age\"]"
   ]
  },
  {
   "cell_type": "code",
   "execution_count": null,
   "metadata": {},
   "outputs": [],
   "source": []
  }
 ],
 "metadata": {
  "kernelspec": {
   "display_name": "llm",
   "language": "python",
   "name": "python3"
  },
  "language_info": {
   "codemirror_mode": {
    "name": "ipython",
    "version": 3
   },
   "file_extension": ".py",
   "mimetype": "text/x-python",
   "name": "python",
   "nbconvert_exporter": "python",
   "pygments_lexer": "ipython3",
   "version": "3.9.21"
  }
 },
 "nbformat": 4,
 "nbformat_minor": 2
}
