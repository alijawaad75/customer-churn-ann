{
 "cells": [
  {
   "cell_type": "code",
   "execution_count": null,
   "id": "28447f96",
   "metadata": {},
   "outputs": [],
   "source": [
    "import pandas as pd\n",
    "import numpy as np\n",
    "\n",
    "import skl"
   ]
  },
  {
   "cell_type": "code",
   "execution_count": null,
   "id": "a0d850e7",
   "metadata": {},
   "outputs": [],
   "source": []
  }
 ],
 "metadata": {
  "language_info": {
   "name": "python"
  }
 },
 "nbformat": 4,
 "nbformat_minor": 5
}
