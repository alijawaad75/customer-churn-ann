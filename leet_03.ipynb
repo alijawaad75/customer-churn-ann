{
 "cells": [
  {
   "cell_type": "code",
   "execution_count": 6,
   "id": "2c493612",
   "metadata": {},
   "outputs": [
    {
     "name": "stdout",
     "output_type": "stream",
     "text": [
      "Longest substring without repeating characters length is: 3\n"
     ]
    }
   ],
   "source": [
    "def longest_substring(s):\n",
    "    char_set = set()\n",
    "    left = 0\n",
    "    max_len = 0\n",
    "\n",
    "    for right in range(len(s)):\n",
    "        while s[right] in char_set:\n",
    "            char_set.remove(s[left])\n",
    "            left += 1\n",
    "\n",
    "        char_set.add(s[right])\n",
    "        max_len = max(max_len, right - left + 1)\n",
    "\n",
    "    return max_len\n",
    "\n",
    "# Input string\n",
    "s = \"abcabcbb\"\n",
    "print(\"Longest substring without repeating characters length is:\", longest_substring(s))\n",
    "\n"
   ]
  },
  {
   "cell_type": "code",
   "execution_count": null,
   "id": "2ecd6744",
   "metadata": {},
   "outputs": [],
   "source": []
  }
 ],
 "metadata": {
  "kernelspec": {
   "display_name": "Python 3",
   "language": "python",
   "name": "python3"
  },
  "language_info": {
   "codemirror_mode": {
    "name": "ipython",
    "version": 3
   },
   "file_extension": ".py",
   "mimetype": "text/x-python",
   "name": "python",
   "nbconvert_exporter": "python",
   "pygments_lexer": "ipython3",
   "version": "3.10.0"
  }
 },
 "nbformat": 4,
 "nbformat_minor": 5
}
