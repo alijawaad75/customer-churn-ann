{
 "cells": [
  {
   "cell_type": "code",
   "execution_count": 3,
   "id": "e75a553a",
   "metadata": {},
   "outputs": [],
   "source": [
    "import os\n",
    "import subprocess\n",
    "import shutil\n",
    "from pathlib import Path\n",
    "\n",
    "def run_command(cmd, shell=True):\n",
    "    \"\"\"Helper function to run shell commands and return output\"\"\"\n",
    "    try:\n",
    "        result = subprocess.run(cmd, shell=shell, capture_output=True, text=True)\n",
    "        if result.stdout:\n",
    "            print(result.stdout)\n",
    "        if result.stderr and result.returncode != 0:\n",
    "            print(f\"Error: {result.stderr}\")\n",
    "        return result.returncode == 0\n",
    "    except Exception as e:\n",
    "        print(f\"Command failed: {e}\")\n",
    "        return False"
   ]
  },
  {
   "cell_type": "code",
   "execution_count": 4,
   "id": "18fbdc48",
   "metadata": {},
   "outputs": [
    {
     "name": "stdout",
     "output_type": "stream",
     "text": [
      "=== PKI Practical Implementation ===\n",
      "\n",
      "Checking OpenSSL availability...\n",
      "Error: 'openssl' is not recognized as an internal or external command,\n",
      "operable program or batch file.\n",
      "\n",
      "\n",
      "Working directory: d:\\c desktop data\\Python\\IS\\PKI\\pki_lab\\pki_lab\n"
     ]
    }
   ],
   "source": [
    "print(\"=== PKI Practical Implementation ===\\n\")\n",
    "\n",
    "# Check OpenSSL availability\n",
    "print(\"Checking OpenSSL availability...\")\n",
    "run_command(\"openssl version\")\n",
    "\n",
    "# Create working directory\n",
    "work_dir = \"pki_lab\"\n",
    "if os.path.exists(work_dir):\n",
    "    shutil.rmtree(work_dir)\n",
    "os.makedirs(work_dir)\n",
    "os.chdir(work_dir)\n",
    "print(f\"\\nWorking directory: {os.getcwd()}\")"
   ]
  },
  {
   "cell_type": "code",
   "execution_count": 5,
   "id": "bc7c5e8f",
   "metadata": {},
   "outputs": [
    {
     "name": "stdout",
     "output_type": "stream",
     "text": [
      "=== PKI Practical Implementation ===\n",
      "\n",
      "Checking OpenSSL availability...\n",
      "Error: 'openssl' is not recognized as an internal or external command,\n",
      "operable program or batch file.\n",
      "\n",
      "\n",
      "Working directory: d:\\c desktop data\\Python\\IS\\PKI\\pki_lab\\pki_lab\\pki_lab\n",
      "\n",
      "============================================================\n",
      "1. ASYMMETRIC ENCRYPTION - KEY PAIR GENERATION\n",
      "============================================================\n",
      "Generating RSA private key...\n",
      "Error: 'openssl' is not recognized as an internal or external command,\n",
      "operable program or batch file.\n",
      "\n",
      "\n",
      "Extracting public key...\n",
      "Error: 'openssl' is not recognized as an internal or external command,\n",
      "operable program or batch file.\n",
      "\n",
      "\n",
      "=== Files Created ===\n",
      "Error: 'ls' is not recognized as an internal or external command,\n",
      "operable program or batch file.\n",
      "\n",
      "\n",
      "=== Private Key Details ===\n",
      "Error: 'openssl' is not recognized as an internal or external command,\n",
      "operable program or batch file.\n",
      "\n",
      "\n",
      "=== Public Key Details ===\n",
      "Error: 'openssl' is not recognized as an internal or external command,\n",
      "operable program or batch file.\n",
      "\n"
     ]
    },
    {
     "data": {
      "text/plain": [
       "False"
      ]
     },
     "execution_count": 5,
     "metadata": {},
     "output_type": "execute_result"
    }
   ],
   "source": [
    "# PKI Practical Implementation in Python\n",
    "# This script provides hands-on experience with Public Key Infrastructure (PKI) concepts\n",
    "\n",
    "import os\n",
    "import subprocess\n",
    "import shutil\n",
    "from pathlib import Path\n",
    "\n",
    "def run_command(cmd, shell=True):\n",
    "    \"\"\"Helper function to run shell commands and return output\"\"\"\n",
    "    try:\n",
    "        result = subprocess.run(cmd, shell=shell, capture_output=True, text=True)\n",
    "        if result.stdout:\n",
    "            print(result.stdout)\n",
    "        if result.stderr and result.returncode != 0:\n",
    "            print(f\"Error: {result.stderr}\")\n",
    "        return result.returncode == 0\n",
    "    except Exception as e:\n",
    "        print(f\"Command failed: {e}\")\n",
    "        return False\n",
    "\n",
    "# ============================================================================\n",
    "# CELL 1: Setup and Environment Check\n",
    "# ============================================================================\n",
    "\n",
    "print(\"=== PKI Practical Implementation ===\\n\")\n",
    "\n",
    "# Check OpenSSL availability\n",
    "print(\"Checking OpenSSL availability...\")\n",
    "run_command(\"openssl version\")\n",
    "\n",
    "# Create working directory\n",
    "work_dir = \"pki_lab\"\n",
    "if os.path.exists(work_dir):\n",
    "    shutil.rmtree(work_dir)\n",
    "os.makedirs(work_dir)\n",
    "os.chdir(work_dir)\n",
    "print(f\"\\nWorking directory: {os.getcwd()}\")\n",
    "\n",
    "# ============================================================================\n",
    "# CELL 2: Asymmetric Encryption - Key Pair Generation\n",
    "# ============================================================================\n",
    "\n",
    "print(\"\\n\" + \"=\"*60)\n",
    "print(\"1. ASYMMETRIC ENCRYPTION - KEY PAIR GENERATION\")\n",
    "print(\"=\"*60)\n",
    "\n",
    "# Generate RSA private key (2048 bits)\n",
    "print(\"Generating RSA private key...\")\n",
    "run_command(\"openssl genrsa -out private_key.pem 2048\")\n",
    "\n",
    "# Extract public key from private key\n",
    "print(\"\\nExtracting public key...\")\n",
    "run_command(\"openssl rsa -in private_key.pem -pubout -out public_key.pem\")\n",
    "\n",
    "# Examine key files\n",
    "print(\"\\n=== Files Created ===\")\n",
    "run_command(\"ls -la *.pem\")\n",
    "\n",
    "print(\"\\n=== Private Key Details ===\")\n",
    "run_command(\"openssl rsa -in private_key.pem -text -noout | head -20\")\n",
    "\n",
    "print(\"\\n=== Public Key Details ===\")\n",
    "run_command(\"openssl rsa -in public_key.pem -pubin -text -noout\")\n"
   ]
  },
  {
   "cell_type": "code",
   "execution_count": null,
   "id": "b3aa2e5d",
   "metadata": {},
   "outputs": [],
   "source": []
  }
 ],
 "metadata": {
  "kernelspec": {
   "display_name": "Python 3",
   "language": "python",
   "name": "python3"
  },
  "language_info": {
   "codemirror_mode": {
    "name": "ipython",
    "version": 3
   },
   "file_extension": ".py",
   "mimetype": "text/x-python",
   "name": "python",
   "nbconvert_exporter": "python",
   "pygments_lexer": "ipython3",
   "version": "3.10.0"
  }
 },
 "nbformat": 4,
 "nbformat_minor": 5
}
