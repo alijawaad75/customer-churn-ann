{
 "cells": [
  {
   "cell_type": "code",
   "execution_count": 3,
   "id": "7ad1e918",
   "metadata": {},
   "outputs": [
    {
     "name": "stdout",
     "output_type": "stream",
     "text": [
      "['h', 'e', 'l', 'l', 'o']\n"
     ]
    }
   ],
   "source": [
    "#we make the project in which the word are convert in to the list of characters\n",
    "#and then we make the list of characters in to the string\n",
    "# first way\n",
    "word=\"hello\"\n",
    "word_list=list(word)\n",
    "print(word_list)\n"
   ]
  },
  {
   "cell_type": "code",
   "execution_count": 2,
   "id": "cda4256d",
   "metadata": {},
   "outputs": [
    {
     "name": "stdout",
     "output_type": "stream",
     "text": [
      "['h', 'e', 'l', 'l', 'o']\n"
     ]
    }
   ],
   "source": [
    "#second way\n",
    "word_list=[char for char in word]\n",
    "print(word_list)"
   ]
  },
  {
   "cell_type": "code",
   "execution_count": 6,
   "id": "14f5e418",
   "metadata": {},
   "outputs": [
    {
     "name": "stdout",
     "output_type": "stream",
     "text": [
      "[0, 1, 2, 3, 4, 5, 6, 7, 8, 9]\n"
     ]
    }
   ],
   "source": [
    "# example 2\n",
    "# we make the list of the numbers and then we convert the list of numbeers\n",
    "number=(i for i in range(10))\n",
    "print(list(number))"
   ]
  },
  {
   "cell_type": "code",
   "execution_count": 7,
   "id": "505fc23d",
   "metadata": {},
   "outputs": [
    {
     "name": "stdout",
     "output_type": "stream",
     "text": [
      "[0, 1, 4, 9, 16, 25, 36, 49, 64, 81]\n"
     ]
    }
   ],
   "source": [
    "# apply the square operation on the list of numbers\n",
    "number=[i*i for i in range(10)]\n",
    "print(list(number))"
   ]
  },
  {
   "cell_type": "code",
   "execution_count": 8,
   "id": "b107d3a7",
   "metadata": {},
   "outputs": [
    {
     "name": "stdout",
     "output_type": "stream",
     "text": [
      "[0, 1, 4, 9, 16, 25, 36, 49, 64, 81]\n"
     ]
    }
   ],
   "source": [
    "#2nd way of the square are\n",
    "number=[i**2 for i in range(10)]\n",
    "print(list(number))"
   ]
  },
  {
   "cell_type": "markdown",
   "id": "531f8a00",
   "metadata": {},
   "source": [
    "# lamda function + anynomus function"
   ]
  },
  {
   "cell_type": "code",
   "execution_count": 9,
   "id": "3592f982",
   "metadata": {},
   "outputs": [
    {
     "name": "stdout",
     "output_type": "stream",
     "text": [
      "30\n"
     ]
    }
   ],
   "source": [
    "def num_sum(num1,num2):\n",
    "    return num1+num2\n",
    "print(num_sum(10,20))"
   ]
  },
  {
   "cell_type": "code",
   "execution_count": 10,
   "id": "afd04825",
   "metadata": {},
   "outputs": [
    {
     "name": "stdout",
     "output_type": "stream",
     "text": [
      "30\n"
     ]
    }
   ],
   "source": [
    "# now we the funation in the lamda function \n",
    "x = lambda num1,num2:num1+num2\n",
    "print(x(10,20))"
   ]
  },
  {
   "cell_type": "markdown",
   "id": "6574bf39",
   "metadata": {},
   "source": [
    "## exercise 1"
   ]
  },
  {
   "cell_type": "code",
   "execution_count": 11,
   "id": "c9f58603",
   "metadata": {},
   "outputs": [
    {
     "name": "stdout",
     "output_type": "stream",
     "text": [
      "[-1, -3, -5, -7, -9]\n"
     ]
    }
   ],
   "source": [
    "## find the only the negative number in the lsit and explain \n",
    "numbers=[-1,2,-3,4,-5,6,-7,8,-9]\n",
    "negative_numbers=[num for num in numbers if num<0]\n",
    "print(negative_numbers)"
   ]
  },
  {
   "cell_type": "markdown",
   "id": "9f2e9cbf",
   "metadata": {},
   "source": [
    "#"
   ]
  },
  {
   "cell_type": "code",
   "execution_count": 12,
   "id": "ed014f82",
   "metadata": {},
   "outputs": [],
   "source": [
    "#exercise 2"
   ]
  },
  {
   "cell_type": "code",
   "execution_count": 13,
   "id": "e4932302",
   "metadata": {},
   "outputs": [
    {
     "name": "stdout",
     "output_type": "stream",
     "text": [
      "[1, 2, 3, 4, 5, 6, 7, 8, 9]\n"
     ]
    }
   ],
   "source": [
    "list_of_lists =[[[1, 2, 3]], [[4, 5, 6]], [[7, 8, 9]]]\n",
    "single_lsit = []\n",
    "for big_box in list_of_lists:\n",
    "    for small_box in big_box:\n",
    "        for item in small_box:\n",
    "            single_lsit.append(item)\n",
    "print(single_lsit)"
   ]
  },
  {
   "cell_type": "code",
   "execution_count": null,
   "id": "12390434",
   "metadata": {},
   "outputs": [],
   "source": []
  }
 ],
 "metadata": {
  "kernelspec": {
   "display_name": "Python 3",
   "language": "python",
   "name": "python3"
  },
  "language_info": {
   "codemirror_mode": {
    "name": "ipython",
    "version": 3
   },
   "file_extension": ".py",
   "mimetype": "text/x-python",
   "name": "python",
   "nbconvert_exporter": "python",
   "pygments_lexer": "ipython3",
   "version": "3.10.0"
  }
 },
 "nbformat": 4,
 "nbformat_minor": 5
}
