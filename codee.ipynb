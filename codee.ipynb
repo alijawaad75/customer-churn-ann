{
 "cells": [
  {
   "cell_type": "code",
   "execution_count": null,
   "metadata": {},
   "outputs": [],
   "source": [
    "class solution:\n",
    "    # we need the 2 pointer for left and right\n",
    "    int left = 0\n",
    "    int right = 0\n",
    "    # right now we need to find the longest substring#\n",
    "    # right pointer are move until the whole string are cover\n",
    "    # right pointer are move until the whole string are cover\n",
    "    # right pointer are move until the whole string are cover\n",
    "    while right < len(s):\n",
    "        # if the right pointer are not in the set\n",
    "        "
   ]
  }
 ],
 "metadata": {
  "kernelspec": {
   "display_name": "llm",
   "language": "python",
   "name": "python3"
  },
  "language_info": {
   "name": "python",
   "version": "3.9.21"
  }
 },
 "nbformat": 4,
 "nbformat_minor": 2
}
