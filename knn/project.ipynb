{
 "cells": [
  {
   "cell_type": "code",
   "execution_count": 17,
   "id": "921b001c",
   "metadata": {},
   "outputs": [],
   "source": [
    "import pandas as pd\n",
    "import numpy as np\n"
   ]
  },
  {
   "cell_type": "code",
   "execution_count": 18,
   "id": "73b1dbe9",
   "metadata": {},
   "outputs": [],
   "source": [
    "dataset = pd.read_csv('fruit_dataset_200.csv')"
   ]
  },
  {
   "cell_type": "code",
   "execution_count": 19,
   "id": "511ba747",
   "metadata": {},
   "outputs": [
    {
     "data": {
      "text/html": [
       "<div>\n",
       "<style scoped>\n",
       "    .dataframe tbody tr th:only-of-type {\n",
       "        vertical-align: middle;\n",
       "    }\n",
       "\n",
       "    .dataframe tbody tr th {\n",
       "        vertical-align: top;\n",
       "    }\n",
       "\n",
       "    .dataframe thead th {\n",
       "        text-align: right;\n",
       "    }\n",
       "</style>\n",
       "<table border=\"1\" class=\"dataframe\">\n",
       "  <thead>\n",
       "    <tr style=\"text-align: right;\">\n",
       "      <th></th>\n",
       "      <th>Fruit</th>\n",
       "      <th>Weight</th>\n",
       "      <th>Color (red=1, orange=0)</th>\n",
       "      <th>Label</th>\n",
       "    </tr>\n",
       "  </thead>\n",
       "  <tbody>\n",
       "    <tr>\n",
       "      <th>0</th>\n",
       "      <td>F1</td>\n",
       "      <td>190</td>\n",
       "      <td>0</td>\n",
       "      <td>Pineapple</td>\n",
       "    </tr>\n",
       "    <tr>\n",
       "      <th>1</th>\n",
       "      <td>F2</td>\n",
       "      <td>293</td>\n",
       "      <td>0</td>\n",
       "      <td>Pear</td>\n",
       "    </tr>\n",
       "    <tr>\n",
       "      <th>2</th>\n",
       "      <td>F3</td>\n",
       "      <td>234</td>\n",
       "      <td>0</td>\n",
       "      <td>Mango</td>\n",
       "    </tr>\n",
       "    <tr>\n",
       "      <th>3</th>\n",
       "      <td>F4</td>\n",
       "      <td>117</td>\n",
       "      <td>0</td>\n",
       "      <td>Orange</td>\n",
       "    </tr>\n",
       "    <tr>\n",
       "      <th>4</th>\n",
       "      <td>F5</td>\n",
       "      <td>294</td>\n",
       "      <td>1</td>\n",
       "      <td>Plum</td>\n",
       "    </tr>\n",
       "    <tr>\n",
       "      <th>...</th>\n",
       "      <td>...</td>\n",
       "      <td>...</td>\n",
       "      <td>...</td>\n",
       "      <td>...</td>\n",
       "    </tr>\n",
       "    <tr>\n",
       "      <th>195</th>\n",
       "      <td>F196</td>\n",
       "      <td>123</td>\n",
       "      <td>0</td>\n",
       "      <td>Guava</td>\n",
       "    </tr>\n",
       "    <tr>\n",
       "      <th>196</th>\n",
       "      <td>F197</td>\n",
       "      <td>103</td>\n",
       "      <td>0</td>\n",
       "      <td>Pear</td>\n",
       "    </tr>\n",
       "    <tr>\n",
       "      <th>197</th>\n",
       "      <td>F198</td>\n",
       "      <td>144</td>\n",
       "      <td>0</td>\n",
       "      <td>Mango</td>\n",
       "    </tr>\n",
       "    <tr>\n",
       "      <th>198</th>\n",
       "      <td>F199</td>\n",
       "      <td>201</td>\n",
       "      <td>0</td>\n",
       "      <td>Pineapple</td>\n",
       "    </tr>\n",
       "    <tr>\n",
       "      <th>199</th>\n",
       "      <td>F200</td>\n",
       "      <td>231</td>\n",
       "      <td>0</td>\n",
       "      <td>Mango</td>\n",
       "    </tr>\n",
       "  </tbody>\n",
       "</table>\n",
       "<p>200 rows × 4 columns</p>\n",
       "</div>"
      ],
      "text/plain": [
       "    Fruit  Weight  Color (red=1, orange=0)      Label\n",
       "0      F1     190                        0  Pineapple\n",
       "1      F2     293                        0       Pear\n",
       "2      F3     234                        0      Mango\n",
       "3      F4     117                        0     Orange\n",
       "4      F5     294                        1       Plum\n",
       "..    ...     ...                      ...        ...\n",
       "195  F196     123                        0      Guava\n",
       "196  F197     103                        0       Pear\n",
       "197  F198     144                        0      Mango\n",
       "198  F199     201                        0  Pineapple\n",
       "199  F200     231                        0      Mango\n",
       "\n",
       "[200 rows x 4 columns]"
      ]
     },
     "execution_count": 19,
     "metadata": {},
     "output_type": "execute_result"
    }
   ],
   "source": [
    "dataset"
   ]
  },
  {
   "cell_type": "code",
   "execution_count": 20,
   "id": "76bfc76c",
   "metadata": {},
   "outputs": [],
   "source": [
    "# know we split the dependent and independent variables\n",
    "X = dataset.iloc[:,1 :-1].values\n",
    "y = dataset.iloc[:, -1].values\n",
    "# we will use the train_test_split function from sklearn to split our dataset into training and testing sets\n",
    "from sklearn.model_selection import train_test_split\n",
    "X_train, X_test, y_train, y_test = train_test_split(X, y, test_size=0.2, random_state=42)\n",
    "# we will use the StandardScaler class from sklearn to standardize our dataset\n",
    "from sklearn.preprocessing import StandardScaler\n",
    "scaler = StandardScaler()\n",
    "X_train = scaler.fit_transform(X_train)\n",
    "X_test = scaler.transform(X_test)\n",
    "# we will use the KNeighborsClassifier class from sklearn to create our KNN model\n",
    "from sklearn.neighbors import KNeighborsClassifier\n",
    "knn = KNeighborsClassifier(n_neighbors=2)\n",
    "knn.fit(X_train, y_train)\n",
    "# we will use the accuracy_score function from sklearn to evaluate our model\n",
    "from sklearn.metrics import accuracy_score\n",
    "y_pred = knn.predict(X_test)"
   ]
  },
  {
   "cell_type": "code",
   "execution_count": 21,
   "id": "36e182fb",
   "metadata": {},
   "outputs": [
    {
     "name": "stdout",
     "output_type": "stream",
     "text": [
      "Predicted fruit: Guava\n"
     ]
    }
   ],
   "source": [
    "# Example input: Weight = 160g, Color = red (1)\n",
    "input_data = [[160, 0]]\n",
    "\n",
    "# Scale the input using the same scaler used for training\n",
    "input_scaled = scaler.transform(input_data)\n",
    "\n",
    "# Predict the label\n",
    "prediction = knn.predict(input_scaled)\n",
    "\n",
    "# Print the result\n",
    "print(\"Predicted fruit:\", prediction[0])\n"
   ]
  },
  {
   "cell_type": "code",
   "execution_count": 24,
   "id": "0cfe6a98",
   "metadata": {},
   "outputs": [
    {
     "name": "stdout",
     "output_type": "stream",
     "text": [
      "['Plum']\n"
     ]
    }
   ],
   "source": [
    "input_data=[[194,1]]\n",
    "# now make the sccaleqd input data\n",
    "input_scale=scaler.transform(input_data)\n",
    "# now we will predict the label of the input data\n",
    "pred=knn.predict(input_scale)\n",
    "# now we will print the result\n",
    "print(pred)"
   ]
  },
  {
   "cell_type": "code",
   "execution_count": null,
   "id": "feacb3c8",
   "metadata": {},
   "outputs": [],
   "source": []
  },
  {
   "cell_type": "code",
   "execution_count": null,
   "id": "fdd6d67d",
   "metadata": {},
   "outputs": [],
   "source": []
  }
 ],
 "metadata": {
  "kernelspec": {
   "display_name": "Python 3",
   "language": "python",
   "name": "python3"
  },
  "language_info": {
   "codemirror_mode": {
    "name": "ipython",
    "version": 3
   },
   "file_extension": ".py",
   "mimetype": "text/x-python",
   "name": "python",
   "nbconvert_exporter": "python",
   "pygments_lexer": "ipython3",
   "version": "3.10.0"
  }
 },
 "nbformat": 4,
 "nbformat_minor": 5
}
